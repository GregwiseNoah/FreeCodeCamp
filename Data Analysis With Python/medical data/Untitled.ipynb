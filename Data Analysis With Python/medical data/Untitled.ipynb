{
 "cells": [
  {
   "cell_type": "code",
   "execution_count": 36,
   "metadata": {},
   "outputs": [],
   "source": [
    "import pandas as pd\n",
    "import seaborn as sns\n",
    "import matplotlib as plt\n",
    "\n",
    "df = pd.read_csv(\"medical_examination (1).csv\")"
   ]
  },
  {
   "cell_type": "code",
   "execution_count": 59,
   "metadata": {},
   "outputs": [
    {
     "data": {
      "text/html": [
       "<div>\n",
       "<style scoped>\n",
       "    .dataframe tbody tr th:only-of-type {\n",
       "        vertical-align: middle;\n",
       "    }\n",
       "\n",
       "    .dataframe tbody tr th {\n",
       "        vertical-align: top;\n",
       "    }\n",
       "\n",
       "    .dataframe thead th {\n",
       "        text-align: right;\n",
       "    }\n",
       "</style>\n",
       "<table border=\"1\" class=\"dataframe\">\n",
       "  <thead>\n",
       "    <tr style=\"text-align: right;\">\n",
       "      <th></th>\n",
       "      <th>id</th>\n",
       "      <th>age</th>\n",
       "      <th>sex</th>\n",
       "      <th>height</th>\n",
       "      <th>weight</th>\n",
       "      <th>ap_hi</th>\n",
       "      <th>ap_lo</th>\n",
       "      <th>cholesterol</th>\n",
       "      <th>gluc</th>\n",
       "      <th>smoke</th>\n",
       "      <th>alco</th>\n",
       "      <th>active</th>\n",
       "      <th>cardio</th>\n",
       "    </tr>\n",
       "  </thead>\n",
       "  <tbody>\n",
       "    <tr>\n",
       "      <th>0</th>\n",
       "      <td>0</td>\n",
       "      <td>18393</td>\n",
       "      <td>2</td>\n",
       "      <td>168</td>\n",
       "      <td>62.0</td>\n",
       "      <td>110</td>\n",
       "      <td>80</td>\n",
       "      <td>1</td>\n",
       "      <td>1</td>\n",
       "      <td>0</td>\n",
       "      <td>0</td>\n",
       "      <td>1</td>\n",
       "      <td>0</td>\n",
       "    </tr>\n",
       "    <tr>\n",
       "      <th>1</th>\n",
       "      <td>1</td>\n",
       "      <td>20228</td>\n",
       "      <td>1</td>\n",
       "      <td>156</td>\n",
       "      <td>85.0</td>\n",
       "      <td>140</td>\n",
       "      <td>90</td>\n",
       "      <td>3</td>\n",
       "      <td>1</td>\n",
       "      <td>0</td>\n",
       "      <td>0</td>\n",
       "      <td>1</td>\n",
       "      <td>1</td>\n",
       "    </tr>\n",
       "    <tr>\n",
       "      <th>2</th>\n",
       "      <td>2</td>\n",
       "      <td>18857</td>\n",
       "      <td>1</td>\n",
       "      <td>165</td>\n",
       "      <td>64.0</td>\n",
       "      <td>130</td>\n",
       "      <td>70</td>\n",
       "      <td>3</td>\n",
       "      <td>1</td>\n",
       "      <td>0</td>\n",
       "      <td>0</td>\n",
       "      <td>0</td>\n",
       "      <td>1</td>\n",
       "    </tr>\n",
       "    <tr>\n",
       "      <th>3</th>\n",
       "      <td>3</td>\n",
       "      <td>17623</td>\n",
       "      <td>2</td>\n",
       "      <td>169</td>\n",
       "      <td>82.0</td>\n",
       "      <td>150</td>\n",
       "      <td>100</td>\n",
       "      <td>1</td>\n",
       "      <td>1</td>\n",
       "      <td>0</td>\n",
       "      <td>0</td>\n",
       "      <td>1</td>\n",
       "      <td>1</td>\n",
       "    </tr>\n",
       "    <tr>\n",
       "      <th>4</th>\n",
       "      <td>4</td>\n",
       "      <td>17474</td>\n",
       "      <td>1</td>\n",
       "      <td>156</td>\n",
       "      <td>56.0</td>\n",
       "      <td>100</td>\n",
       "      <td>60</td>\n",
       "      <td>1</td>\n",
       "      <td>1</td>\n",
       "      <td>0</td>\n",
       "      <td>0</td>\n",
       "      <td>0</td>\n",
       "      <td>0</td>\n",
       "    </tr>\n",
       "  </tbody>\n",
       "</table>\n",
       "</div>"
      ],
      "text/plain": [
       "   id    age  sex  height  weight  ap_hi  ap_lo  cholesterol  gluc  smoke  \\\n",
       "0   0  18393    2     168    62.0    110     80            1     1      0   \n",
       "1   1  20228    1     156    85.0    140     90            3     1      0   \n",
       "2   2  18857    1     165    64.0    130     70            3     1      0   \n",
       "3   3  17623    2     169    82.0    150    100            1     1      0   \n",
       "4   4  17474    1     156    56.0    100     60            1     1      0   \n",
       "\n",
       "   alco  active  cardio  \n",
       "0     0       1       0  \n",
       "1     0       1       1  \n",
       "2     0       0       1  \n",
       "3     0       1       1  \n",
       "4     0       0       0  "
      ]
     },
     "execution_count": 59,
     "metadata": {},
     "output_type": "execute_result"
    }
   ],
   "source": [
    "df.head()"
   ]
  },
  {
   "cell_type": "code",
   "execution_count": 60,
   "metadata": {},
   "outputs": [],
   "source": [
    "df[\"overweight\"] = df.weight / ((df.height/100) ** 2) >25"
   ]
  },
  {
   "cell_type": "code",
   "execution_count": 61,
   "metadata": {},
   "outputs": [],
   "source": [
    "df.overweight = df.overweight.astype(int)"
   ]
  },
  {
   "cell_type": "code",
   "execution_count": 62,
   "metadata": {},
   "outputs": [
    {
     "data": {
      "text/plain": [
       "0        0\n",
       "1        1\n",
       "2        0\n",
       "3        1\n",
       "4        0\n",
       "        ..\n",
       "69995    1\n",
       "69996    1\n",
       "69997    1\n",
       "69998    1\n",
       "69999    0\n",
       "Name: overweight, Length: 70000, dtype: int64"
      ]
     },
     "execution_count": 62,
     "metadata": {},
     "output_type": "execute_result"
    }
   ],
   "source": [
    "df[\"overweight\"]"
   ]
  },
  {
   "cell_type": "code",
   "execution_count": 63,
   "metadata": {},
   "outputs": [
    {
     "name": "stderr",
     "output_type": "stream",
     "text": [
      "<ipython-input-63-ac6ee4b518d0>:1: SettingWithCopyWarning: \n",
      "A value is trying to be set on a copy of a slice from a DataFrame\n",
      "\n",
      "See the caveats in the documentation: https://pandas.pydata.org/pandas-docs/stable/user_guide/indexing.html#returning-a-view-versus-a-copy\n",
      "  df.cholesterol[df.cholesterol == 1] = 0\n",
      "<ipython-input-63-ac6ee4b518d0>:2: SettingWithCopyWarning: \n",
      "A value is trying to be set on a copy of a slice from a DataFrame\n",
      "\n",
      "See the caveats in the documentation: https://pandas.pydata.org/pandas-docs/stable/user_guide/indexing.html#returning-a-view-versus-a-copy\n",
      "  df.cholesterol[df.cholesterol >1] = 1\n"
     ]
    }
   ],
   "source": [
    "df.cholesterol[df.cholesterol == 1] = 0\n",
    "df.cholesterol[df.cholesterol >1] = 1"
   ]
  },
  {
   "cell_type": "code",
   "execution_count": 64,
   "metadata": {},
   "outputs": [
    {
     "name": "stderr",
     "output_type": "stream",
     "text": [
      "<ipython-input-64-23cb9b7f7881>:1: SettingWithCopyWarning: \n",
      "A value is trying to be set on a copy of a slice from a DataFrame\n",
      "\n",
      "See the caveats in the documentation: https://pandas.pydata.org/pandas-docs/stable/user_guide/indexing.html#returning-a-view-versus-a-copy\n",
      "  df.gluc[df.gluc == 1] = 0\n",
      "<ipython-input-64-23cb9b7f7881>:2: SettingWithCopyWarning: \n",
      "A value is trying to be set on a copy of a slice from a DataFrame\n",
      "\n",
      "See the caveats in the documentation: https://pandas.pydata.org/pandas-docs/stable/user_guide/indexing.html#returning-a-view-versus-a-copy\n",
      "  df.gluc[df.gluc > 1 ] = 1\n"
     ]
    }
   ],
   "source": [
    "df.gluc[df.gluc == 1] = 0\n",
    "df.gluc[df.gluc > 1 ] = 1"
   ]
  },
  {
   "cell_type": "code",
   "execution_count": 65,
   "metadata": {},
   "outputs": [],
   "source": [
    "#just a cleaner way to do the above conditional changes\n",
    "#df.loc[df.my_channel > 20000, 'my_channel'] = 0\n",
    "#df.loc[df.cholesterol == 0, \"cholesterol\"] = 0\n"
   ]
  },
  {
   "cell_type": "code",
   "execution_count": 68,
   "metadata": {},
   "outputs": [
    {
     "data": {
      "text/plain": [
       "<seaborn.axisgrid.FacetGrid at 0x7f87148a2eb0>"
      ]
     },
     "execution_count": 68,
     "metadata": {},
     "output_type": "execute_result"
    },
    {
     "data": {
      "image/png": "[encoded data removed]",
      "text/plain": [
       "<Figure size 762.375x360 with 2 Axes>"
      ]
     },
     "metadata": {
      "needs_background": "light"
     },
     "output_type": "display_data"
    }
   ],
   "source": [
    "#Having to copy this again, let me try to break it down to understand\n",
    "'''\n",
    "First I'm creating another dataset with the necessary variables avtive, alco, cholesterol, gluc, overweight and smoke, \n",
    "then I need to split it based on the boolean cardio. No idea what the use of var_name is. Seems like it is defunct \n",
    "because variable is the variable is the name set automatically. Next I am making a sns catplot with dfcat.\n",
    "so data is the data that I'm going to use, x is the x axis and I'm using variable as my x axis and that means that it'll\n",
    "have all the different elements like active, gluc and so on. I'm using col as cardio, and that splits it into 2 plots based\n",
    "on cardio = 1 and cardio = 2.\n",
    "'''\n",
    "\n",
    "dfcat = pd.melt(df, id_vars = \"cardio\", var_name = 'variable', value_vars = [\"active\", \"alco\", \"cholesterol\", \"gluc\", \"overweight\", \"smoke\"])\n",
    "\n",
    "\n",
    "sns.catplot(data = dfcat, kind = \"count\", x = \"variable\", hue = \"value\", col = \"cardio\").set_axis_labels(\"variable\", \"total\")"
   ]
  },
  {
   "cell_type": "code",
   "execution_count": 67,
   "metadata": {},
   "outputs": [
    {
     "data": {
      "text/plain": [
       "0        0\n",
       "1        1\n",
       "2        0\n",
       "3        1\n",
       "4        0\n",
       "        ..\n",
       "69995    1\n",
       "69996    1\n",
       "69997    1\n",
       "69998    1\n",
       "69999    0\n",
       "Name: overweight, Length: 70000, dtype: int64"
      ]
     },
     "execution_count": 67,
     "metadata": {},
     "output_type": "execute_result"
    }
   ],
   "source": [
    "df.overweight"
   ]
  },
  {
   "cell_type": "code",
   "execution_count": 69,
   "metadata": {},
   "outputs": [
    {
     "data": {
      "text/html": [
       "<div>\n",
       "<style scoped>\n",
       "    .dataframe tbody tr th:only-of-type {\n",
       "        vertical-align: middle;\n",
       "    }\n",
       "\n",
       "    .dataframe tbody tr th {\n",
       "        vertical-align: top;\n",
       "    }\n",
       "\n",
       "    .dataframe thead th {\n",
       "        text-align: right;\n",
       "    }\n",
       "</style>\n",
       "<table border=\"1\" class=\"dataframe\">\n",
       "  <thead>\n",
       "    <tr style=\"text-align: right;\">\n",
       "      <th></th>\n",
       "      <th>id</th>\n",
       "      <th>age</th>\n",
       "      <th>sex</th>\n",
       "      <th>height</th>\n",
       "      <th>weight</th>\n",
       "      <th>ap_hi</th>\n",
       "      <th>ap_lo</th>\n",
       "      <th>cholesterol</th>\n",
       "      <th>gluc</th>\n",
       "      <th>smoke</th>\n",
       "      <th>alco</th>\n",
       "      <th>active</th>\n",
       "      <th>cardio</th>\n",
       "      <th>overweight</th>\n",
       "    </tr>\n",
       "  </thead>\n",
       "  <tbody>\n",
       "    <tr>\n",
       "      <th>0</th>\n",
       "      <td>0</td>\n",
       "      <td>18393</td>\n",
       "      <td>2</td>\n",
       "      <td>168</td>\n",
       "      <td>62.0</td>\n",
       "      <td>110</td>\n",
       "      <td>80</td>\n",
       "      <td>0</td>\n",
       "      <td>0</td>\n",
       "      <td>0</td>\n",
       "      <td>0</td>\n",
       "      <td>1</td>\n",
       "      <td>0</td>\n",
       "      <td>0</td>\n",
       "    </tr>\n",
       "    <tr>\n",
       "      <th>1</th>\n",
       "      <td>1</td>\n",
       "      <td>20228</td>\n",
       "      <td>1</td>\n",
       "      <td>156</td>\n",
       "      <td>85.0</td>\n",
       "      <td>140</td>\n",
       "      <td>90</td>\n",
       "      <td>1</td>\n",
       "      <td>0</td>\n",
       "      <td>0</td>\n",
       "      <td>0</td>\n",
       "      <td>1</td>\n",
       "      <td>1</td>\n",
       "      <td>1</td>\n",
       "    </tr>\n",
       "    <tr>\n",
       "      <th>2</th>\n",
       "      <td>2</td>\n",
       "      <td>18857</td>\n",
       "      <td>1</td>\n",
       "      <td>165</td>\n",
       "      <td>64.0</td>\n",
       "      <td>130</td>\n",
       "      <td>70</td>\n",
       "      <td>1</td>\n",
       "      <td>0</td>\n",
       "      <td>0</td>\n",
       "      <td>0</td>\n",
       "      <td>0</td>\n",
       "      <td>1</td>\n",
       "      <td>0</td>\n",
       "    </tr>\n",
       "    <tr>\n",
       "      <th>3</th>\n",
       "      <td>3</td>\n",
       "      <td>17623</td>\n",
       "      <td>2</td>\n",
       "      <td>169</td>\n",
       "      <td>82.0</td>\n",
       "      <td>150</td>\n",
       "      <td>100</td>\n",
       "      <td>0</td>\n",
       "      <td>0</td>\n",
       "      <td>0</td>\n",
       "      <td>0</td>\n",
       "      <td>1</td>\n",
       "      <td>1</td>\n",
       "      <td>1</td>\n",
       "    </tr>\n",
       "    <tr>\n",
       "      <th>4</th>\n",
       "      <td>4</td>\n",
       "      <td>17474</td>\n",
       "      <td>1</td>\n",
       "      <td>156</td>\n",
       "      <td>56.0</td>\n",
       "      <td>100</td>\n",
       "      <td>60</td>\n",
       "      <td>0</td>\n",
       "      <td>0</td>\n",
       "      <td>0</td>\n",
       "      <td>0</td>\n",
       "      <td>0</td>\n",
       "      <td>0</td>\n",
       "      <td>0</td>\n",
       "    </tr>\n",
       "  </tbody>\n",
       "</table>\n",
       "</div>"
      ],
      "text/plain": [
       "   id    age  sex  height  weight  ap_hi  ap_lo  cholesterol  gluc  smoke  \\\n",
       "0   0  18393    2     168    62.0    110     80            0     0      0   \n",
       "1   1  20228    1     156    85.0    140     90            1     0      0   \n",
       "2   2  18857    1     165    64.0    130     70            1     0      0   \n",
       "3   3  17623    2     169    82.0    150    100            0     0      0   \n",
       "4   4  17474    1     156    56.0    100     60            0     0      0   \n",
       "\n",
       "   alco  active  cardio  overweight  \n",
       "0     0       1       0           0  \n",
       "1     0       1       1           1  \n",
       "2     0       0       1           0  \n",
       "3     0       1       1           1  \n",
       "4     0       0       0           0  "
      ]
     },
     "execution_count": 69,
     "metadata": {},
     "output_type": "execute_result"
    }
   ],
   "source": [
    "df.head()"
   ]
  },
  {
   "cell_type": "code",
   "execution_count": 83,
   "metadata": {},
   "outputs": [],
   "source": [
    "'''Cleaning the data, unsure if it means that I set it to zero or\n",
    "remove the unwanted data \n",
    "First mistake I made was to group the dataframes together and not the logic. \n",
    "Looking at the way it's written it seems like we are only grabbing the \n",
    "data that mets the condition and ignoring the rest'''\n",
    "#df_heat = df[(df['ap_lo'] <= df['ap_hi'])] & df[(df['height'] >= df['height'].quantile(0.025))] & df[(df['height'] >= df['height'].quantile(0.975))] & df[(df['weight'] >= df['weight'].quantile(0.975))] & df[(df['weight'] >= df['weight'].quantile(0.025))]\n",
    "\n",
    "df_heat = df[(df['ap_lo']<=df['ap_hi']) &\n",
    "            (df['height'] >= df['height'].quantile(0.025))&\n",
    "            (df['height'] <= df['height'].quantile(0.975))&\n",
    "            (df['weight'] >= df['weight'].quantile(0.025))&\n",
    "            (df['weight'] <= df['weight'].quantile(0.975))]"
   ]
  },
  {
   "cell_type": "code",
   "execution_count": 90,
   "metadata": {},
   "outputs": [
    {
     "data": {
      "text/plain": [
       "<AxesSubplot:>"
      ]
     },
     "execution_count": 90,
     "metadata": {},
     "output_type": "execute_result"
    },
    {
     "data": {
      "image/png": "[encoded data removed]",
      "text/plain": [
       "<Figure size 432x288 with 2 Axes>"
      ]
     },
     "metadata": {
      "needs_background": "light"
     },
     "output_type": "display_data"
    }
   ],
   "source": [
    "'''What the fuck is a correlation matrix\n",
    "Why is it df.corr and not df_heat.corr()'''\n",
    "import numpy as np\n",
    "\n",
    "corr = df.corr()\n",
    "mask = np.triu(corr)\n",
    "\n",
    "plt.figsize = (16,5)\n",
    "sns.heatmap(corr,mask=mask, fmt='.1f',vmax=.3, linewidths=.5,square=True, cbar_kws = {'shrink':0.5},annot=True, center=0)"
   ]
  },
  {
   "cell_type": "code",
   "execution_count": null,
   "metadata": {},
   "outputs": [],
   "source": [
    "'''import pandas as pd\n",
    "import seaborn as sns\n",
    "import matplotlib.pyplot as plt\n",
    "import numpy as np\n",
    "\n",
    "# Import data\n",
    "df = pd.read_csv(\"medical_examination.csv\")\n",
    "\n",
    "# Add 'overweight' column\n",
    "'''df['overweight']= df[\"weight\"] / np.square(df[\"height\"]/100)>25\n",
    "df.overweight = df.overweight.astype(int)'''\n",
    "\n",
    "df['overweight'] = np.where(df['weight']/(np.square((df['height']/100)))>25, 1, 0)\n",
    "\n",
    "\n",
    "# Normalize data by making 0 always good and 1 always bad. If the value of 'cholesterol' or 'gluc' is 1, make the value 0. If the value is more than 1, make the value 1.\n",
    "\n",
    "'''df[\"gluc\"][df[\"gluc\"] == 1] = 0\n",
    "df[\"gluc\"][df[\"gluc\"] > 1] = 1\n",
    "\n",
    "df[\"cholesterol\"][df[\"cholesterol\"] == 1] = 0\n",
    "df[\"cholesterol\"][df[\"cholesterol\"] > 1] = 1\n",
    "'''\n",
    "df.loc[df.cholesterol == 1, \"cholesterol\"] = 0\n",
    "df.loc[df.cholesterol > 1, \"cholesterol\"] = 1\n",
    "df.loc[df.gluc == 1, \"gluc\"] = 0\n",
    "df.loc[df.gluc >1, \"gluc\"] = 1\n",
    "\n",
    "# Draw Categorical Plot\n",
    "def draw_cat_plot():\n",
    "        # Create DataFrame for cat plot using `pd.melt` using just the values from 'cholesterol', 'gluc', 'smoke', 'alco', 'active', and 'overweight'.\n",
    "    df_cat = pd.melt(df, id_vars = 'cardio', var_name = 'variable', value_vars = ['alco', 'active','cholesterol', 'gluc', 'overweight','smoke'])\n",
    "\n",
    "\n",
    "    # Group and reformat the data to split it by 'cardio'. Show the counts of each feature. You will have to rename one of the collumns for the catplot to work correctly.\n",
    "    df_cat = pd.melt(df, var_name = 'variable', value_vars = ['active','alco','cholesterol', 'gluc','overweight','smoke'], id_vars = 'cardio')\n",
    "\n",
    "    # Draw the catplot with 'sns.catplot()'\n",
    "    fig = sns.catplot(data=df_cat, kind=\"count\",  x=\"variable\",hue=\"value\", col=\"cardio\").set_axis_labels(\"variable\", \"total\")\n",
    "    fig = fig.fig\n",
    "\n",
    "\n",
    "    # Do not modify the next two lines\n",
    "    fig.savefig('catplot.png')\n",
    "    return fig\n",
    "\n",
    "# Draw Heat Map\n",
    "def draw_heat_map():\n",
    "    # Clean the data\n",
    "    df_heat = df[(df['ap_lo'] <= df['ap_hi']) & \n",
    "             (df['height'] >= (df['height'].quantile(0.025))) & \n",
    "             (df['height'] <= (df['height'].quantile(0.975))) & \n",
    "             (df['weight'] >= (df['weight'].quantile(0.025))) & \n",
    "             (df['weight'] <= (df['weight'].quantile(0.975)))]\n",
    "\n",
    "    # Calculate the correlation matrix\n",
    "    corr = df_heat.corr()\n",
    "\n",
    "    # Generate a mask for the upper triangle\n",
    "    mask = np.triu(np.ones_like(corr, dtype=bool))\n",
    "\n",
    "    # Set up the matplotlib figure\n",
    "    fig, ax = plt.subplots()\n",
    "\n",
    "    # Draw the heatmap with 'sns.heatmap()'\n",
    "\n",
    "    sns.heatmap(corr, \n",
    "                mask=mask, \n",
    "                vmax=.3, \n",
    "                square=True,\n",
    "                linewidths=.5,\n",
    "                annot = True,\n",
    "                fmt='.1f')    \n",
    "  #sns.heatmap(corr,mask=mask, fmt='.1f',vmax=.3, linewidths=.5,square=True, cbar_kws = {'shrink':0.5},annot=True, center=0)\n",
    "    #fig = f.get_figure()\n",
    "\n",
    "\n",
    "    # Do not modify the next two lines\n",
    "    fig.savefig('heatmap.png')\n",
    "    return fig\n",
    "'''\n",
    "\n",
    "Let me try shamelessly copying other code to see if it works.."
   ]
  }
 ],
 "metadata": {
  "kernelspec": {
   "display_name": "Python 3",
   "language": "python",
   "name": "python3"
  },
  "language_info": {
   "codemirror_mode": {
    "name": "ipython",
    "version": 3
   },
   "file_extension": ".py",
   "mimetype": "text/x-python",
   "name": "python",
   "nbconvert_exporter": "python",
   "pygments_lexer": "ipython3",
   "version": "3.8.5"
  }
 },
 "nbformat": 4,
 "nbformat_minor": 4
}
